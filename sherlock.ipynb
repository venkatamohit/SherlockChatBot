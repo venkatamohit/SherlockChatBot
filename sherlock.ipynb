{
 "cells": [
  {
   "cell_type": "code",
   "execution_count": null,
   "id": "ca8982b7-75fc-41ed-aaec-30d7151bf2cd",
   "metadata": {},
   "outputs": [],
   "source": [
    "!pip install openai numpy pandas singlestoredb langchain==0.1.8 langchain-community==0.0.21 langchain-core==0.1.25 langchain-openai==0.0.6 faiss-cpu --quiet\n"
   ]
  },
  {
   "cell_type": "code",
   "execution_count": 12,
   "id": "c7f8e08f-ce69-440a-8718-b4fe81eb801f",
   "metadata": {},
   "outputs": [],
   "source": [
    "import os\n",
    "\n",
    "os.environ['OPENAI_API_KEY'] = 'Your APi Key here'"
   ]
  },
  {
   "cell_type": "code",
   "execution_count": null,
   "id": "c0f20a43-ed12-4d50-ac5e-bff4ba195e7e",
   "metadata": {},
   "outputs": [
    {
     "name": "stdin",
     "output_type": "stream",
     "text": [
      "\n",
      "You:  what did Shakespeare say?\n"
     ]
    },
    {
     "name": "stdout",
     "output_type": "stream",
     "text": [
      "AI: It seems like you may have pasted a passage from a Sherlock Holmes story by Sir Arthur Conan Doyle instead of a quote from Shakespeare. If you're looking for a specific quote from Shakespeare, please let me know so I can assist you further.\n"
     ]
    },
    {
     "name": "stdin",
     "output_type": "stream",
     "text": [
      "\n",
      "You:  I gave him a short sketch of my adventures, and had hardly concluded      it by the time that we reached our destination.\n"
     ]
    },
    {
     "name": "stdout",
     "output_type": "stream",
     "text": [
      "AI: It sounds like you had quite an intriguing and eventful journey with your companion. The way you describe the scene with Patent-leathers and Square-toes is quite vivid and captivating. It seems like there is a mystery unfolding, with clues hidden in the dust and the behavior of the characters. I hope your adventures continue to be exciting and full of intrigue. If you need any assistance or advice along the way, feel free to ask!\n"
     ]
    },
    {
     "name": "stdin",
     "output_type": "stream",
     "text": [
      "\n",
      "You:  who are you?\n"
     ]
    },
    {
     "name": "stdout",
     "output_type": "stream",
     "text": [
      "AI: I am a helpful assistant here to provide you with information and assistance to the best of my abilities. How can I assist you today?\n"
     ]
    },
    {
     "name": "stdin",
     "output_type": "stream",
     "text": [
      "\n",
      "You:  who is shake sphere?\n"
     ]
    },
    {
     "name": "stdout",
     "output_type": "stream",
     "text": [
      "AI: It appears that you may have misspelled the name of the famous playwright and poet William Shakespeare as \"shake sphere.\" William Shakespeare, often referred to simply as Shakespeare, was an English playwright and poet who is widely regarded as one of the greatest writers in the English language. He lived in the late 16th and early 17th centuries and is known for his plays such as \"Romeo and Juliet,\" \"Hamlet,\" and \"Macbeth.\" If you have any specific questions about Shakespeare or his works, feel free to ask!\n"
     ]
    },
    {
     "name": "stdin",
     "output_type": "stream",
     "text": [
      "\n",
      "You:  \"And who was the first?\" I asked.\n"
     ]
    },
    {
     "name": "stdout",
     "output_type": "stream",
     "text": [
      "AI: I'm sorry, it seems like you're referencing a specific text or conversation that I'm not familiar with. Can you provide more context or clarify your question so I can better assist you?\n"
     ]
    },
    {
     "name": "stdin",
     "output_type": "stream",
     "text": [
      "\n",
      "You:  \"A fellow who is working at the chemical laboratory up at the      hospital. He was bemoaning himself this morning because he could not      get someone to go halves with him in some nice rooms which he had      found, and which were too much for his purse.\"\n"
     ]
    },
    {
     "name": "stdout",
     "output_type": "stream",
     "text": [
      "AI: It seems like you are quoting a passage from Sir Arthur Conan Doyle's \"A Study in Scarlet,\" which introduces the characters of Dr. John Watson and Sherlock Holmes. The dialogue captures the initial meeting between Watson and Holmes, as well as Watson's curiosity about his potential future roommate. If you have any specific questions or need further assistance with this text, feel free to ask.\n"
     ]
    }
   ],
   "source": [
    "\n",
    "from langchain.text_splitter import CharacterTextSplitter\n",
    "from langchain_community.document_loaders import TextLoader\n",
    "from langchain_openai import OpenAIEmbeddings\n",
    "from langchain.vectorstores import FAISS\n",
    "from openai import OpenAI\n",
    "import os\n",
    "import pandas as pd\n",
    "import requests\n",
    "\n",
    "\n",
    "# First, download the text file content from the URLSS\n",
    "file_url = \"https://sherlock-holm.es/stories/plain-text/stud.txt\"\n",
    "response = requests.get(file_url)\n",
    "if response.status_code == 200:\n",
    "    file_content = response.text\n",
    "    file_path = 'local_example.txt'  # Save the content to a local file\n",
    "    with open(file_path, 'w', encoding='utf-8') as f:\n",
    "        f.write(file_content)\n",
    "else:\n",
    "    raise Exception(\"Failed to download the file.\")\n",
    "\n",
    "client = OpenAI(\n",
    "    api_key=os.environ.get(\"OPENAI_API_KEY\"),\n",
    ")\n",
    "if not client.api_key:\n",
    "    raise Exception(\"OPENAI_API_KEY environment variable not set. Please set it before running the script.\")\n",
    "\n",
    "# Initialize the OpenAI client with the API key\n",
    "#openai.api_key = OPENAI_KEY\n",
    "\n",
    "# Load and process documents from the local file\n",
    "loader = TextLoader(file_path)\n",
    "documents = loader.load()\n",
    "text_splitter = CharacterTextSplitter(chunk_size=2000, chunk_overlap=0)\n",
    "docs = text_splitter.split_documents(documents)\n",
    "\n",
    "# Initialize embeddings and create a document search database\n",
    "embeddings = OpenAIEmbeddings()\n",
    "docsearch = FAISS.from_documents(docs, embeddings)\n",
    "\n",
    "# Chat loop\n",
    "while True:\n",
    "    user_query = input(\"\\nYou: \")\n",
    "    if user_query.lower() in ['quit', 'exit']:\n",
    "        print(\"Exiting chatbot.\")\n",
    "        break\n",
    "\n",
    "    docs = docsearch.similarity_search(user_query)\n",
    "    if docs:\n",
    "        context = docs[0].page_content\n",
    "        response = client.chat.completions.create(\n",
    "            model=\"gpt-3.5-turbo\",\n",
    "            messages=[\n",
    "                {\"role\": \"system\", \"content\": \"You are a helpful assistant.\"},\n",
    "                {\"role\": \"user\", \"content\": user_query},\n",
    "                {\"role\": \"assistant\", \"content\": context}\n",
    "            ],\n",
    "            temperature=0.7,\n",
    "            max_tokens=150,\n",
    "            top_p=1.0,\n",
    "            frequency_penalty=0.0,\n",
    "            presence_penalty=0.0\n",
    "        )\n",
    "        print(\"AI:\", response.choices[0].message.content.strip())\n",
    "    else:\n",
    "        print(\"AI: Sorry, I couldn't find relevant information.\")\n"
   ]
  },
  {
   "cell_type": "code",
   "execution_count": null,
   "id": "dd0122bc-ddef-48d4-8d5c-2efa8e6a484b",
   "metadata": {},
   "outputs": [],
   "source": []
  }
 ],
 "metadata": {
  "kernelspec": {
   "display_name": "Python 3 (ipykernel)",
   "language": "python",
   "name": "python3"
  },
  "language_info": {
   "codemirror_mode": {
    "name": "ipython",
    "version": 3
   },
   "file_extension": ".py",
   "mimetype": "text/x-python",
   "name": "python",
   "nbconvert_exporter": "python",
   "pygments_lexer": "ipython3",
   "version": "3.12.4"
  }
 },
 "nbformat": 4,
 "nbformat_minor": 5
}
